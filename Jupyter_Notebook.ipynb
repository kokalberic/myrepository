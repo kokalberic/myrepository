{
 "cells": [
  {
   "cell_type": "markdown",
   "id": "9c5e64dc-2bc7-4640-9b71-877eda7b6100",
   "metadata": {},
   "source": [
    "<center>\n",
    "    <img src=\"https://cf-courses-data.s3.us.cloud-object-storage.appdomain.cloud/IBMDeveloperSkillsNetwork-DS0105EN-SkillsNetwork/labs/Module2/images/SN_web_lightmode.png\" width=\"300\" alt=\"cognitiveclass.ai logo\">\n",
    "</center>\n"
   ]
  },
  {
   "cell_type": "markdown",
   "id": "bca0d27a-24c6-4c43-b116-c73c8d9ab219",
   "metadata": {},
   "source": [
    "# Hands-on Lab: Create your Jupyter Notebook\n"
   ]
  },
  {
   "cell_type": "markdown",
   "id": "8b126e2f-912e-42e0-8d57-43862ac465fc",
   "metadata": {},
   "source": [
    "#### Add your code below following the instructions given in the course\n"
   ]
  },
  {
   "cell_type": "markdown",
   "id": "e7ba372f-335a-4836-943b-f9cf0fa309b0",
   "metadata": {},
   "source": [
    "# My Jupyter Notebook"
   ]
  },
  {
   "cell_type": "markdown",
   "metadata": {
    "vscode": {
     "languageId": "plaintext"
    }
   },
   "source": [
    "Introduction: This is a Peer-graded Assignment about completing exercises using the Jupyter Notebook."
   ]
  },
  {
   "cell_type": "markdown",
   "metadata": {},
   "source": [
    "Data science languages: Python, R, SQL, Scala, Java, C++ and Julia"
   ]
  },
  {
   "cell_type": "markdown",
   "metadata": {},
   "source": [
    "Data science libraries: Pandas, NumPy, Matplotlib, Seaborn, Scikit-learn, Keras, TensorFlow, PyTorch"
   ]
  },
  {
   "cell_type": "markdown",
   "metadata": {},
   "source": [
    "| Data Science tools | Data Management Tool | Data Integration and Transformation Tool | Data Visualization Tool | Model Deployment Tool | Model Monitoring Tool |\n",
    "| --- | --- | --- | --- | --- | --- |\n",
    "| Tools | MySQL | Apache AirFlow | Pixie Dust | Apache PredictionIO | ModelDB |"
   ]
  },
  {
   "cell_type": "markdown",
   "metadata": {},
   "source": [
    "Arithmetic expression examples:\\\n",
    "Addition: 2 + 1 = 3\\\n",
    "Subtraction: 7 – 2 = 5\\\n",
    "Multiplication: 10 × 9 = 90\\\n",
    "Division: 120 / 6 = 20"
   ]
  },
  {
   "cell_type": "code",
   "execution_count": 8,
   "metadata": {},
   "outputs": [
    {
     "name": "stdout",
     "output_type": "stream",
     "text": [
      "20\n",
      "10\n"
     ]
    }
   ],
   "source": [
    "# Create a code cell to multiply and add numbers\n",
    "# Multiply numbers\n",
    "def multiply_no(x,y):\n",
    "    print(x*y)\n",
    "# Example: 4*5 = 20\n",
    "multiply_no(4,5)\n",
    "\n",
    "# Add numbers\n",
    "def add_no(x,y):\n",
    "    print(x+y)\n",
    "# Example: 7+3 = 10\n",
    "add_no(7,3)"
   ]
  },
  {
   "cell_type": "code",
   "execution_count": 6,
   "metadata": {},
   "outputs": [
    {
     "name": "stdout",
     "output_type": "stream",
     "text": [
      "60 mins equals to 1.0 hours\n"
     ]
    }
   ],
   "source": [
    "# Convert minutes to hours\n",
    "def convert_min_to_hour(x):\n",
    "    print(f\"{x} mins equals to {x/60} hours\")\n",
    "\n",
    "# Example: Convert 60 mins to hours, the result should be 1 hour\n",
    "convert_min_to_hour(60)"
   ]
  },
  {
   "cell_type": "markdown",
   "metadata": {},
   "source": [
    "My Objectives:\n",
    "1. Complete this Peer-graded Assignment\n",
    "2. Submit My Work\n",
    "3. Grade My Peers"
   ]
  },
  {
   "cell_type": "markdown",
   "metadata": {},
   "source": [
    "# Author’s name: KOK HIN CHI"
   ]
  },
  {
   "cell_type": "markdown",
   "id": "b5f467ed-efe7-45ac-a08b-b2d48c26ba81",
   "metadata": {},
   "source": [
    "Copyright ©2024 IBM Corporation. All rights reserved.\n"
   ]
  }
 ],
 "metadata": {
  "kernelspec": {
   "display_name": "Python 3",
   "language": "python",
   "name": "python3"
  },
  "language_info": {
   "codemirror_mode": {
    "name": "ipython",
    "version": 3
   },
   "file_extension": ".py",
   "mimetype": "text/x-python",
   "name": "python",
   "nbconvert_exporter": "python",
   "pygments_lexer": "ipython3",
   "version": "3.10.4"
  },
  "prev_pub_hash": "9e1985db9844176462bd1d5863048c9f3d17404bbc6a648be9084b0c42b29347"
 },
 "nbformat": 4,
 "nbformat_minor": 4
}
